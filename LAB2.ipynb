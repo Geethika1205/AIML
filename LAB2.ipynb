{
  "nbformat": 4,
  "nbformat_minor": 0,
  "metadata": {
    "colab": {
      "provenance": [],
      "authorship_tag": "ABX9TyO2l6lk2t0Kgphvhs8//S5u",
      "include_colab_link": true
    },
    "kernelspec": {
      "name": "python3",
      "display_name": "Python 3"
    },
    "language_info": {
      "name": "python"
    }
  },
  "cells": [
    {
      "cell_type": "markdown",
      "metadata": {
        "id": "view-in-github",
        "colab_type": "text"
      },
      "source": [
        "<a href=\"https://colab.research.google.com/github/Geethika1205/AIML/blob/main/LAB2.ipynb\" target=\"_parent\"><img src=\"https://colab.research.google.com/assets/colab-badge.svg\" alt=\"Open In Colab\"/></a>"
      ]
    },
    {
      "cell_type": "code",
      "execution_count": 1,
      "metadata": {
        "colab": {
          "base_uri": "https://localhost:8080/"
        },
        "id": "HCtbLPePNr3S",
        "outputId": "eed0f050-5357-40b5-b90d-1fe8c3d09429"
      },
      "outputs": [
        {
          "output_type": "stream",
          "name": "stdout",
          "text": [
            "['B', 'A', 'C', 'D', 'E', 'H', 'G', 'F']\n"
          ]
        }
      ],
      "source": [
        "graph1 = {\n",
        "    'A' : ['B','C','G'],\n",
        "    'B' : ['A'],\n",
        "    'C' : ['A','D','F'],\n",
        "    'D' : ['A','C','E','H'],\n",
        "    'E' : ['D','H','F'],\n",
        "    'F' : ['C','E'],\n",
        "    'G' : ['A','D','H'],\n",
        "    'H' : ['D','E','G'],\n",
        "\n",
        "}\n",
        "\n",
        "def dfs(graph, node, visited):\n",
        "    if node not in visited:\n",
        "        visited.append(node)\n",
        "        for k in graph[node]:\n",
        "            dfs(graph,k, visited)\n",
        "    return visited\n",
        "\n",
        "visited = dfs(graph1,'B', [])\n",
        "print(visited)"
      ]
    }
  ]
}