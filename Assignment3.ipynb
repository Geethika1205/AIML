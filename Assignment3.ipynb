{
  "nbformat": 4,
  "nbformat_minor": 0,
  "metadata": {
    "colab": {
      "provenance": [],
      "include_colab_link": true
    },
    "kernelspec": {
      "name": "python3",
      "display_name": "Python 3"
    },
    "language_info": {
      "name": "python"
    }
  },
  "cells": [
    {
      "cell_type": "markdown",
      "metadata": {
        "id": "view-in-github",
        "colab_type": "text"
      },
      "source": [
        "<a href=\"https://colab.research.google.com/github/Geethika1205/AIML/blob/main/Assignment3.ipynb\" target=\"_parent\"><img src=\"https://colab.research.google.com/assets/colab-badge.svg\" alt=\"Open In Colab\"/></a>"
      ]
    },
    {
      "cell_type": "code",
      "execution_count": 1,
      "metadata": {
        "colab": {
          "base_uri": "https://localhost:8080/"
        },
        "id": "lHBYcl65JgGI",
        "outputId": "df2343a6-3d2d-4c7d-d945-05cdd39f4166"
      },
      "outputs": [
        {
          "output_type": "stream",
          "name": "stdout",
          "text": [
            "BFS traversal starting from node 0:['0', '1', '3', '2', '4', '5']\n"
          ]
        }
      ],
      "source": [
        "from collections import deque\n",
        "\n",
        "def bfs(graph, start):\n",
        "  visited = set()\n",
        "  queue = deque([start])\n",
        "  result=[]\n",
        "  while queue:\n",
        "    vertex = queue.popleft()\n",
        "    if vertex not in visited:\n",
        "      visited.add(vertex)\n",
        "      result.append(vertex)\n",
        "      #add all unvisited neighbors to the queue\n",
        "      for neighbor in graph[vertex]:\n",
        "          if neighbor not in visited:\n",
        "              queue.append(neighbor)\n",
        "  return result\n",
        "\n",
        "# Fix: Use __name__ (double underscores)\n",
        "if __name__ == '__main__':\n",
        "  graph = {\n",
        "      '0': ['1', '3'],\n",
        "      '1': ['0', '2', '3'],\n",
        "      '3': ['0', '4'],\n",
        "      '2': ['1'],\n",
        "      '4': ['2', '5'],\n",
        "      '5': ['2','4']\n",
        "  }\n",
        "  start_node= '0'\n",
        "  print(f\"BFS traversal starting from node {start_node}:{bfs(graph,start_node)}\")"
      ]
    }
  ]
}